{
  "nbformat": 4,
  "nbformat_minor": 0,
  "metadata": {
    "colab": {
      "name": "IADS_IntroductionToPythoh.ipynb",
      "provenance": [],
      "collapsed_sections": [],
      "authorship_tag": "ABX9TyOcqhAHMB4HiKGKmL7MEqgx",
      "include_colab_link": true
    },
    "kernelspec": {
      "name": "python3",
      "display_name": "Python 3"
    },
    "language_info": {
      "name": "python"
    }
  },
  "cells": [
    {
      "cell_type": "markdown",
      "metadata": {
        "id": "view-in-github",
        "colab_type": "text"
      },
      "source": [
        "<a href=\"https://colab.research.google.com/github/lajos-cs/IADS_DAY1/blob/main/IADS_IntroductionToPythoh.ipynb\" target=\"_parent\"><img src=\"https://colab.research.google.com/assets/colab-badge.svg\" alt=\"Open In Colab\"/></a>"
      ]
    },
    {
      "cell_type": "code",
      "execution_count": null,
      "metadata": {
        "id": "BFNR5gbepGIi"
      },
      "outputs": [],
      "source": [
        "#question\n",
        "z=1 "
      ]
    },
    {
      "cell_type": "code",
      "source": [
        "z==2"
      ],
      "metadata": {
        "colab": {
          "base_uri": "https://localhost:8080/"
        },
        "id": "0lfitGE711NT",
        "outputId": "38b04683-3e52-44f5-8ba2-8134334d122f"
      },
      "execution_count": null,
      "outputs": [
        {
          "output_type": "execute_result",
          "data": {
            "text/plain": [
              "False"
            ]
          },
          "metadata": {},
          "execution_count": 3
        }
      ]
    },
    {
      "cell_type": "code",
      "source": [
        "print(\"Hello %s %s\" %(string1, string2))"
      ],
      "metadata": {
        "colab": {
          "base_uri": "https://localhost:8080/"
        },
        "id": "SrDZrIIO6GGK",
        "outputId": "eb9cdde5-a75b-4a0b-e949-8e2f8ff21a49"
      },
      "execution_count": null,
      "outputs": [
        {
          "output_type": "stream",
          "name": "stdout",
          "text": [
            "Hello World !\n"
          ]
        }
      ]
    },
    {
      "cell_type": "code",
      "source": [
        ""
      ],
      "metadata": {
        "id": "jXJDj7tK9aez"
      },
      "execution_count": null,
      "outputs": []
    },
    {
      "cell_type": "code",
      "source": [
        "string1 = \"World\"\n",
        "string2 = '!'"
      ],
      "metadata": {
        "id": "HbguoVjG4XcF"
      },
      "execution_count": null,
      "outputs": []
    },
    {
      "cell_type": "code",
      "source": [
        "print(\"Hello\" + string1 + string2)"
      ],
      "metadata": {
        "colab": {
          "base_uri": "https://localhost:8080/"
        },
        "id": "HmXuZ1AH4wdT",
        "outputId": "677d7939-6b2a-439b-e6d5-5a94dc003dcd"
      },
      "execution_count": null,
      "outputs": [
        {
          "output_type": "stream",
          "name": "stdout",
          "text": [
            "HelloWorld!\n"
          ]
        }
      ]
    },
    {
      "cell_type": "code",
      "source": [
        "print(\"Hello\", string1, string2)"
      ],
      "metadata": {
        "colab": {
          "base_uri": "https://localhost:8080/"
        },
        "id": "bJBiO6UL5crh",
        "outputId": "cfa2c837-92ed-4126-8438-25a15cb6580d"
      },
      "execution_count": null,
      "outputs": [
        {
          "output_type": "stream",
          "name": "stdout",
          "text": [
            "Hello World !\n"
          ]
        }
      ]
    },
    {
      "cell_type": "code",
      "source": [
        "a=[]\n",
        "print(type(a))"
      ],
      "metadata": {
        "colab": {
          "base_uri": "https://localhost:8080/"
        },
        "id": "AVuMpDC49cRL",
        "outputId": "df5e8f8d-79ed-4d0f-8e3e-5014300c3147"
      },
      "execution_count": 9,
      "outputs": [
        {
          "output_type": "stream",
          "name": "stdout",
          "text": [
            "<class 'list'>\n"
          ]
        }
      ]
    },
    {
      "cell_type": "code",
      "source": [
        "x=['Lajos', 'Emma', 'Eszter']\n",
        "print(x[1])"
      ],
      "metadata": {
        "colab": {
          "base_uri": "https://localhost:8080/"
        },
        "id": "1bUvnQRj9vbv",
        "outputId": "3dcfd1ce-7ea5-405e-8b77-5bdb12aff5ca"
      },
      "execution_count": 11,
      "outputs": [
        {
          "output_type": "stream",
          "name": "stdout",
          "text": [
            "Emma\n"
          ]
        }
      ]
    },
    {
      "cell_type": "code",
      "source": [
        "y['Tamas', 'Jozsef']"
      ],
      "metadata": {
        "id": "KqcARFev_HuE"
      },
      "execution_count": null,
      "outputs": []
    }
  ]
}